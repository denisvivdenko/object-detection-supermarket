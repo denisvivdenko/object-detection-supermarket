{
 "cells": [
  {
   "cell_type": "code",
   "execution_count": 2,
   "metadata": {},
   "outputs": [],
   "source": [
    "import pandas as pd\n",
    "import numpy as np\n",
    "import matplotlib.pyplot as plt\n",
    "import seaborn as sns\n"
   ]
  },
  {
   "cell_type": "code",
   "execution_count": 3,
   "metadata": {},
   "outputs": [],
   "source": [
    "# The CSV columns are: image_name,x1,y1,x2,y2,class,image_width,image_height\n",
    "columns = [\"image_name\", \"x1\", \"y1\", \"x2\", \"y2\", \"class_name\", \"image_width\", \"image_height\"]\n",
    "\n",
    "train_annotations = pd.read_csv('../data/SKU110K_fixed/annotations/annotations_train.csv', header=None)\n",
    "train_annotations.columns = columns\n",
    "\n",
    "test_annotations = pd.read_csv('../data/SKU110K_fixed/annotations/annotations_test.csv', header=None)\n",
    "test_annotations.columns = columns\n",
    "\n",
    "val_annotations = pd.read_csv('../data/SKU110K_fixed/annotations/annotations_val.csv', header=None)\n",
    "val_annotations.columns = columns\n",
    "\n",
    "dataset = {\n",
    "    \"train\": train_annotations,\n",
    "    \"test\": test_annotations,\n",
    "    \"val\": val_annotations\n",
    "}"
   ]
  },
  {
   "cell_type": "code",
   "execution_count": 4,
   "metadata": {},
   "outputs": [
    {
     "data": {
      "text/html": [
       "<div>\n",
       "<style scoped>\n",
       "    .dataframe tbody tr th:only-of-type {\n",
       "        vertical-align: middle;\n",
       "    }\n",
       "\n",
       "    .dataframe tbody tr th {\n",
       "        vertical-align: top;\n",
       "    }\n",
       "\n",
       "    .dataframe thead th {\n",
       "        text-align: right;\n",
       "    }\n",
       "</style>\n",
       "<table border=\"1\" class=\"dataframe\">\n",
       "  <thead>\n",
       "    <tr style=\"text-align: right;\">\n",
       "      <th></th>\n",
       "      <th>image_name</th>\n",
       "      <th>x1</th>\n",
       "      <th>y1</th>\n",
       "      <th>x2</th>\n",
       "      <th>y2</th>\n",
       "      <th>class_name</th>\n",
       "      <th>image_width</th>\n",
       "      <th>image_height</th>\n",
       "    </tr>\n",
       "  </thead>\n",
       "  <tbody>\n",
       "    <tr>\n",
       "      <th>0</th>\n",
       "      <td>train_0.jpg</td>\n",
       "      <td>208</td>\n",
       "      <td>537</td>\n",
       "      <td>422</td>\n",
       "      <td>814</td>\n",
       "      <td>object</td>\n",
       "      <td>3024</td>\n",
       "      <td>3024</td>\n",
       "    </tr>\n",
       "    <tr>\n",
       "      <th>1</th>\n",
       "      <td>train_0.jpg</td>\n",
       "      <td>1268</td>\n",
       "      <td>1923</td>\n",
       "      <td>1365</td>\n",
       "      <td>2209</td>\n",
       "      <td>object</td>\n",
       "      <td>3024</td>\n",
       "      <td>3024</td>\n",
       "    </tr>\n",
       "    <tr>\n",
       "      <th>2</th>\n",
       "      <td>train_0.jpg</td>\n",
       "      <td>1135</td>\n",
       "      <td>2074</td>\n",
       "      <td>1261</td>\n",
       "      <td>2166</td>\n",
       "      <td>object</td>\n",
       "      <td>3024</td>\n",
       "      <td>3024</td>\n",
       "    </tr>\n",
       "    <tr>\n",
       "      <th>3</th>\n",
       "      <td>train_0.jpg</td>\n",
       "      <td>1045</td>\n",
       "      <td>2085</td>\n",
       "      <td>1122</td>\n",
       "      <td>2258</td>\n",
       "      <td>object</td>\n",
       "      <td>3024</td>\n",
       "      <td>3024</td>\n",
       "    </tr>\n",
       "    <tr>\n",
       "      <th>4</th>\n",
       "      <td>train_0.jpg</td>\n",
       "      <td>976</td>\n",
       "      <td>2036</td>\n",
       "      <td>1040</td>\n",
       "      <td>2177</td>\n",
       "      <td>object</td>\n",
       "      <td>3024</td>\n",
       "      <td>3024</td>\n",
       "    </tr>\n",
       "  </tbody>\n",
       "</table>\n",
       "</div>"
      ],
      "text/plain": [
       "    image_name    x1    y1    x2    y2 class_name  image_width  image_height\n",
       "0  train_0.jpg   208   537   422   814     object         3024          3024\n",
       "1  train_0.jpg  1268  1923  1365  2209     object         3024          3024\n",
       "2  train_0.jpg  1135  2074  1261  2166     object         3024          3024\n",
       "3  train_0.jpg  1045  2085  1122  2258     object         3024          3024\n",
       "4  train_0.jpg   976  2036  1040  2177     object         3024          3024"
      ]
     },
     "execution_count": 4,
     "metadata": {},
     "output_type": "execute_result"
    }
   ],
   "source": [
    "train_annotations.head()"
   ]
  },
  {
   "cell_type": "code",
   "execution_count": 5,
   "metadata": {},
   "outputs": [
    {
     "data": {
      "text/plain": [
       "(array([6.55000e+02, 1.18000e+02, 6.08670e+04, 7.94870e+04, 2.40748e+05,\n",
       "        5.31492e+05, 1.90140e+04, 2.55197e+05, 1.44720e+04, 6.43200e+03]),\n",
       " array([ 640. , 1107.2, 1574.4, 2041.6, 2508.8, 2976. , 3443.2, 3910.4,\n",
       "        4377.6, 4844.8, 5312. ]),\n",
       " <BarContainer object of 10 artists>)"
      ]
     },
     "execution_count": 5,
     "metadata": {},
     "output_type": "execute_result"
    },
    {
     "data": {
      "image/png": "[encoded data removed]",
      "text/plain": [
       "<Figure size 640x480 with 1 Axes>"
      ]
     },
     "metadata": {},
     "output_type": "display_data"
    }
   ],
   "source": [
    "plt.hist(train_annotations.image_width)\n",
    "plt.hist(train_annotations.image_height)"
   ]
  },
  {
   "cell_type": "code",
   "execution_count": 6,
   "metadata": {},
   "outputs": [
    {
     "name": "stdout",
     "output_type": "stream",
     "text": [
      "<class 'pandas.core.frame.DataFrame'>\n",
      "RangeIndex: 1208482 entries, 0 to 1208481\n",
      "Data columns (total 8 columns):\n",
      " #   Column        Non-Null Count    Dtype \n",
      "---  ------        --------------    ----- \n",
      " 0   image_name    1208482 non-null  object\n",
      " 1   x1            1208482 non-null  int64 \n",
      " 2   y1            1208482 non-null  int64 \n",
      " 3   x2            1208482 non-null  int64 \n",
      " 4   y2            1208482 non-null  int64 \n",
      " 5   class_name    1208482 non-null  object\n",
      " 6   image_width   1208482 non-null  int64 \n",
      " 7   image_height  1208482 non-null  int64 \n",
      "dtypes: int64(6), object(2)\n",
      "memory usage: 73.8+ MB\n"
     ]
    }
   ],
   "source": [
    "train_annotations.info()"
   ]
  },
  {
   "cell_type": "code",
   "execution_count": 7,
   "metadata": {},
   "outputs": [
    {
     "ename": "AttributeError",
     "evalue": "'DataFrame' object has no attribute 'object'",
     "output_type": "error",
     "traceback": [
      "\u001b[0;31m---------------------------------------------------------------------------\u001b[0m",
      "\u001b[0;31mAttributeError\u001b[0m                            Traceback (most recent call last)",
      "\u001b[0;32m/tmp/ipykernel_289855/3967147170.py\u001b[0m in \u001b[0;36m?\u001b[0;34m()\u001b[0m\n\u001b[0;32m----> 1\u001b[0;31m \u001b[0mtrain_annotations\u001b[0m\u001b[0;34m.\u001b[0m\u001b[0mobject\u001b[0m\u001b[0;34m.\u001b[0m\u001b[0mvalue_counts\u001b[0m\u001b[0;34m(\u001b[0m\u001b[0;34m)\u001b[0m\u001b[0;34m\u001b[0m\u001b[0;34m\u001b[0m\u001b[0m\n\u001b[0m",
      "\u001b[0;32m~/object-detection-supermarket/venv/lib/python3.10/site-packages/pandas/core/generic.py\u001b[0m in \u001b[0;36m?\u001b[0;34m(self, name)\u001b[0m\n\u001b[1;32m   6198\u001b[0m             \u001b[0;32mand\u001b[0m \u001b[0mname\u001b[0m \u001b[0;32mnot\u001b[0m \u001b[0;32min\u001b[0m \u001b[0mself\u001b[0m\u001b[0;34m.\u001b[0m\u001b[0m_accessors\u001b[0m\u001b[0;34m\u001b[0m\u001b[0;34m\u001b[0m\u001b[0m\n\u001b[1;32m   6199\u001b[0m             \u001b[0;32mand\u001b[0m \u001b[0mself\u001b[0m\u001b[0;34m.\u001b[0m\u001b[0m_info_axis\u001b[0m\u001b[0;34m.\u001b[0m\u001b[0m_can_hold_identifiers_and_holds_name\u001b[0m\u001b[0;34m(\u001b[0m\u001b[0mname\u001b[0m\u001b[0;34m)\u001b[0m\u001b[0;34m\u001b[0m\u001b[0;34m\u001b[0m\u001b[0m\n\u001b[1;32m   6200\u001b[0m         ):\n\u001b[1;32m   6201\u001b[0m             \u001b[0;32mreturn\u001b[0m \u001b[0mself\u001b[0m\u001b[0;34m[\u001b[0m\u001b[0mname\u001b[0m\u001b[0;34m]\u001b[0m\u001b[0;34m\u001b[0m\u001b[0;34m\u001b[0m\u001b[0m\n\u001b[0;32m-> 6202\u001b[0;31m         \u001b[0;32mreturn\u001b[0m \u001b[0mobject\u001b[0m\u001b[0;34m.\u001b[0m\u001b[0m__getattribute__\u001b[0m\u001b[0;34m(\u001b[0m\u001b[0mself\u001b[0m\u001b[0;34m,\u001b[0m \u001b[0mname\u001b[0m\u001b[0;34m)\u001b[0m\u001b[0;34m\u001b[0m\u001b[0;34m\u001b[0m\u001b[0m\n\u001b[0m",
      "\u001b[0;31mAttributeError\u001b[0m: 'DataFrame' object has no attribute 'object'"
     ]
    }
   ],
   "source": [
    "train_annotations.object.value_counts()"
   ]
  },
  {
   "cell_type": "code",
   "execution_count": null,
   "metadata": {},
   "outputs": [],
   "source": [
    "from ultralytics import YOLO"
   ]
  },
  {
   "cell_type": "code",
   "execution_count": null,
   "metadata": {},
   "outputs": [
    {
     "name": "stderr",
     "output_type": "stream",
     "text": [
      "\n",
      "image 1/1 /home/denys/object-detection-supermarket/notebooks/../data/examples/001.jpg: 448x640 (no detections), 76.9ms\n",
      "Speed: 2.2ms preprocess, 76.9ms inference, 0.5ms postprocess per image at shape (1, 3, 448, 640)\n"
     ]
    }
   ],
   "source": [
    "model = YOLO(f'../models/yolov8n.pt')\n",
    "results = model.predict(source='../data/examples/001.jpg', conf=0.25)"
   ]
  },
  {
   "cell_type": "code",
   "execution_count": null,
   "metadata": {},
   "outputs": [
    {
     "name": "stderr",
     "output_type": "stream",
     "text": [
      "WARNING ⚠️ 'Boxes.boxes' is deprecated. Use 'Boxes.data' instead.\n"
     ]
    },
    {
     "data": {
      "text/plain": [
       "ultralytics.engine.results.Boxes object with attributes:\n",
       "\n",
       "boxes: tensor([], size=(0, 6))\n",
       "cls: tensor([])\n",
       "conf: tensor([])\n",
       "data: tensor([], size=(0, 6))\n",
       "id: None\n",
       "is_track: False\n",
       "orig_shape: (2396, 3594)\n",
       "shape: torch.Size([0, 6])\n",
       "xywh: tensor([], size=(0, 4))\n",
       "xywhn: tensor([], size=(0, 4))\n",
       "xyxy: tensor([], size=(0, 4))\n",
       "xyxyn: tensor([], size=(0, 4))"
      ]
     },
     "execution_count": 30,
     "metadata": {},
     "output_type": "execute_result"
    }
   ],
   "source": [
    "results[0].boxes"
   ]
  },
  {
   "cell_type": "code",
   "execution_count": 8,
   "metadata": {},
   "outputs": [
    {
     "data": {
      "text/html": [
       "<div>\n",
       "<style scoped>\n",
       "    .dataframe tbody tr th:only-of-type {\n",
       "        vertical-align: middle;\n",
       "    }\n",
       "\n",
       "    .dataframe tbody tr th {\n",
       "        vertical-align: top;\n",
       "    }\n",
       "\n",
       "    .dataframe thead th {\n",
       "        text-align: right;\n",
       "    }\n",
       "</style>\n",
       "<table border=\"1\" class=\"dataframe\">\n",
       "  <thead>\n",
       "    <tr style=\"text-align: right;\">\n",
       "      <th></th>\n",
       "      <th>image_name</th>\n",
       "      <th>x1</th>\n",
       "      <th>y1</th>\n",
       "      <th>x2</th>\n",
       "      <th>y2</th>\n",
       "      <th>class_name</th>\n",
       "      <th>image_width</th>\n",
       "      <th>image_height</th>\n",
       "    </tr>\n",
       "  </thead>\n",
       "  <tbody>\n",
       "    <tr>\n",
       "      <th>0</th>\n",
       "      <td>train_0.jpg</td>\n",
       "      <td>208</td>\n",
       "      <td>537</td>\n",
       "      <td>422</td>\n",
       "      <td>814</td>\n",
       "      <td>object</td>\n",
       "      <td>3024</td>\n",
       "      <td>3024</td>\n",
       "    </tr>\n",
       "    <tr>\n",
       "      <th>1</th>\n",
       "      <td>train_0.jpg</td>\n",
       "      <td>1268</td>\n",
       "      <td>1923</td>\n",
       "      <td>1365</td>\n",
       "      <td>2209</td>\n",
       "      <td>object</td>\n",
       "      <td>3024</td>\n",
       "      <td>3024</td>\n",
       "    </tr>\n",
       "    <tr>\n",
       "      <th>2</th>\n",
       "      <td>train_0.jpg</td>\n",
       "      <td>1135</td>\n",
       "      <td>2074</td>\n",
       "      <td>1261</td>\n",
       "      <td>2166</td>\n",
       "      <td>object</td>\n",
       "      <td>3024</td>\n",
       "      <td>3024</td>\n",
       "    </tr>\n",
       "    <tr>\n",
       "      <th>3</th>\n",
       "      <td>train_0.jpg</td>\n",
       "      <td>1045</td>\n",
       "      <td>2085</td>\n",
       "      <td>1122</td>\n",
       "      <td>2258</td>\n",
       "      <td>object</td>\n",
       "      <td>3024</td>\n",
       "      <td>3024</td>\n",
       "    </tr>\n",
       "    <tr>\n",
       "      <th>4</th>\n",
       "      <td>train_0.jpg</td>\n",
       "      <td>976</td>\n",
       "      <td>2036</td>\n",
       "      <td>1040</td>\n",
       "      <td>2177</td>\n",
       "      <td>object</td>\n",
       "      <td>3024</td>\n",
       "      <td>3024</td>\n",
       "    </tr>\n",
       "  </tbody>\n",
       "</table>\n",
       "</div>"
      ],
      "text/plain": [
       "    image_name    x1    y1    x2    y2 class_name  image_width  image_height\n",
       "0  train_0.jpg   208   537   422   814     object         3024          3024\n",
       "1  train_0.jpg  1268  1923  1365  2209     object         3024          3024\n",
       "2  train_0.jpg  1135  2074  1261  2166     object         3024          3024\n",
       "3  train_0.jpg  1045  2085  1122  2258     object         3024          3024\n",
       "4  train_0.jpg   976  2036  1040  2177     object         3024          3024"
      ]
     },
     "execution_count": 8,
     "metadata": {},
     "output_type": "execute_result"
    }
   ],
   "source": [
    "train_annotations.head()"
   ]
  },
  {
   "cell_type": "code",
   "execution_count": 28,
   "metadata": {},
   "outputs": [
    {
     "data": {
      "text/plain": [
       "13317"
      ]
     },
     "execution_count": 28,
     "metadata": {},
     "output_type": "execute_result"
    }
   ],
   "source": [
    "sum(train_annotations[\"x2\"] > train_annotations[\"image_width\"])"
   ]
  },
  {
   "cell_type": "code",
   "execution_count": 9,
   "metadata": {},
   "outputs": [
    {
     "data": {
      "text/plain": [
       "{'object': 0}"
      ]
     },
     "execution_count": 9,
     "metadata": {},
     "output_type": "execute_result"
    }
   ],
   "source": [
    "classes = {class_name: i for i, class_name in enumerate(pd.concat([d for d in dataset.values()])[\"class_name\"].unique())}\n",
    "classes"
   ]
  },
  {
   "cell_type": "code",
   "execution_count": 38,
   "metadata": {},
   "outputs": [
    {
     "name": "stderr",
     "output_type": "stream",
     "text": [
      "  2%|▏         | 172/8219 [00:55<43:13,  3.10it/s] \n"
     ]
    },
    {
     "ename": "KeyboardInterrupt",
     "evalue": "",
     "output_type": "error",
     "traceback": [
      "\u001b[0;31m---------------------------------------------------------------------------\u001b[0m",
      "\u001b[0;31mKeyboardInterrupt\u001b[0m                         Traceback (most recent call last)",
      "Cell \u001b[0;32mIn[38], line 172\u001b[0m\n\u001b[1;32m    168\u001b[0m                     \u001b[39mfor\u001b[39;00m class_name, bbox \u001b[39min\u001b[39;00m \u001b[39mzip\u001b[39m(augmented_image_metadata[\u001b[39m\"\u001b[39m\u001b[39mclasses\u001b[39m\u001b[39m\"\u001b[39m], augmented_image_metadata[\u001b[39m\"\u001b[39m\u001b[39mbboxes\u001b[39m\u001b[39m\"\u001b[39m]):\n\u001b[1;32m    169\u001b[0m                         f\u001b[39m.\u001b[39mwrite(\u001b[39mf\u001b[39m\u001b[39m\"\u001b[39m\u001b[39m{\u001b[39;00mclass_name\u001b[39m}\u001b[39;00m\u001b[39m \u001b[39m\u001b[39m\"\u001b[39m \u001b[39m+\u001b[39m \u001b[39m'\u001b[39m\u001b[39m \u001b[39m\u001b[39m'\u001b[39m\u001b[39m.\u001b[39mjoin([\u001b[39mstr\u001b[39m(v) \u001b[39mfor\u001b[39;00m v \u001b[39min\u001b[39;00m \u001b[39mlist\u001b[39m(bbox)]) \u001b[39m+\u001b[39m \u001b[39m\"\u001b[39m\u001b[39m\\n\u001b[39;00m\u001b[39m\"\u001b[39m)\n\u001b[0;32m--> 172\u001b[0m prepare_dataset(params, dataset, \u001b[39m\"\u001b[39;49m\u001b[39m../data/dataset\u001b[39;49m\u001b[39m\"\u001b[39;49m, \u001b[39m\"\u001b[39;49m\u001b[39m../data/SKU110K_fixed/images\u001b[39;49m\u001b[39m\"\u001b[39;49m)\n",
      "Cell \u001b[0;32mIn[38], line 148\u001b[0m, in \u001b[0;36mprepare_dataset\u001b[0;34m(params, datasets, data_path, images_dir)\u001b[0m\n\u001b[1;32m    146\u001b[0m random\u001b[39m.\u001b[39mseed(new_seed)\n\u001b[1;32m    147\u001b[0m augmenter \u001b[39m=\u001b[39m get_augmentations()\n\u001b[0;32m--> 148\u001b[0m augmentation \u001b[39m=\u001b[39m augmenter(image\u001b[39m=\u001b[39;49mimage, bboxes\u001b[39m=\u001b[39;49mbboxes, labels\u001b[39m=\u001b[39;49mclasses)\n\u001b[1;32m    149\u001b[0m augmented_image \u001b[39m=\u001b[39m augmentation[\u001b[39m\"\u001b[39m\u001b[39mimage\u001b[39m\u001b[39m\"\u001b[39m]\n\u001b[1;32m    150\u001b[0m augmented_bboxes \u001b[39m=\u001b[39m augmentation[\u001b[39m\"\u001b[39m\u001b[39mbboxes\u001b[39m\u001b[39m\"\u001b[39m]\n",
      "File \u001b[0;32m~/object-detection-supermarket/venv/lib/python3.10/site-packages/albumentations/core/composition.py:454\u001b[0m, in \u001b[0;36mReplayCompose.__call__\u001b[0;34m(self, force_apply, *args, **kwargs)\u001b[0m\n\u001b[1;32m    452\u001b[0m \u001b[39mdef\u001b[39;00m \u001b[39m__call__\u001b[39m(\u001b[39mself\u001b[39m, \u001b[39m*\u001b[39margs, force_apply: \u001b[39mbool\u001b[39m \u001b[39m=\u001b[39m \u001b[39mFalse\u001b[39;00m, \u001b[39m*\u001b[39m\u001b[39m*\u001b[39mkwargs) \u001b[39m-\u001b[39m\u001b[39m>\u001b[39m typing\u001b[39m.\u001b[39mDict[\u001b[39mstr\u001b[39m, typing\u001b[39m.\u001b[39mAny]:\n\u001b[1;32m    453\u001b[0m     kwargs[\u001b[39mself\u001b[39m\u001b[39m.\u001b[39msave_key] \u001b[39m=\u001b[39m defaultdict(\u001b[39mdict\u001b[39m)\n\u001b[0;32m--> 454\u001b[0m     result \u001b[39m=\u001b[39m \u001b[39msuper\u001b[39;49m(ReplayCompose, \u001b[39mself\u001b[39;49m)\u001b[39m.\u001b[39;49m\u001b[39m__call__\u001b[39;49m(force_apply\u001b[39m=\u001b[39;49mforce_apply, \u001b[39m*\u001b[39;49m\u001b[39m*\u001b[39;49mkwargs)\n\u001b[1;32m    455\u001b[0m     serialized \u001b[39m=\u001b[39m \u001b[39mself\u001b[39m\u001b[39m.\u001b[39mget_dict_with_id()\n\u001b[1;32m    456\u001b[0m     \u001b[39mself\u001b[39m\u001b[39m.\u001b[39mfill_with_params(serialized, result[\u001b[39mself\u001b[39m\u001b[39m.\u001b[39msave_key])\n",
      "File \u001b[0;32m~/object-detection-supermarket/venv/lib/python3.10/site-packages/albumentations/core/composition.py:217\u001b[0m, in \u001b[0;36mCompose.__call__\u001b[0;34m(self, force_apply, *args, **data)\u001b[0m\n\u001b[1;32m    214\u001b[0m data \u001b[39m=\u001b[39m Compose\u001b[39m.\u001b[39m_make_targets_contiguous(data)  \u001b[39m# ensure output targets are contiguous\u001b[39;00m\n\u001b[1;32m    216\u001b[0m \u001b[39mfor\u001b[39;00m p \u001b[39min\u001b[39;00m \u001b[39mself\u001b[39m\u001b[39m.\u001b[39mprocessors\u001b[39m.\u001b[39mvalues():\n\u001b[0;32m--> 217\u001b[0m     p\u001b[39m.\u001b[39;49mpostprocess(data)\n\u001b[1;32m    219\u001b[0m \u001b[39mreturn\u001b[39;00m data\n",
      "File \u001b[0;32m~/object-detection-supermarket/venv/lib/python3.10/site-packages/albumentations/core/utils.py:72\u001b[0m, in \u001b[0;36mDataProcessor.postprocess\u001b[0;34m(self, data)\u001b[0m\n\u001b[1;32m     69\u001b[0m rows, cols \u001b[39m=\u001b[39m get_shape(data[\u001b[39m\"\u001b[39m\u001b[39mimage\u001b[39m\u001b[39m\"\u001b[39m])\n\u001b[1;32m     71\u001b[0m \u001b[39mfor\u001b[39;00m data_name \u001b[39min\u001b[39;00m \u001b[39mself\u001b[39m\u001b[39m.\u001b[39mdata_fields:\n\u001b[0;32m---> 72\u001b[0m     data[data_name] \u001b[39m=\u001b[39m \u001b[39mself\u001b[39;49m\u001b[39m.\u001b[39;49mfilter(data[data_name], rows, cols)\n\u001b[1;32m     73\u001b[0m     data[data_name] \u001b[39m=\u001b[39m \u001b[39mself\u001b[39m\u001b[39m.\u001b[39mcheck_and_convert(data[data_name], rows, cols, direction\u001b[39m=\u001b[39m\u001b[39m\"\u001b[39m\u001b[39mfrom\u001b[39m\u001b[39m\"\u001b[39m)\n\u001b[1;32m     75\u001b[0m data \u001b[39m=\u001b[39m \u001b[39mself\u001b[39m\u001b[39m.\u001b[39mremove_label_fields_from_data(data)\n",
      "File \u001b[0;32m~/object-detection-supermarket/venv/lib/python3.10/site-packages/albumentations/core/bbox_utils.py:125\u001b[0m, in \u001b[0;36mBboxProcessor.filter\u001b[0;34m(self, data, rows, cols)\u001b[0m\n\u001b[1;32m    123\u001b[0m \u001b[39mdef\u001b[39;00m \u001b[39mfilter\u001b[39m(\u001b[39mself\u001b[39m, data: Sequence, rows: \u001b[39mint\u001b[39m, cols: \u001b[39mint\u001b[39m) \u001b[39m-\u001b[39m\u001b[39m>\u001b[39m List:\n\u001b[1;32m    124\u001b[0m     \u001b[39mself\u001b[39m\u001b[39m.\u001b[39mparams: BboxParams\n\u001b[0;32m--> 125\u001b[0m     \u001b[39mreturn\u001b[39;00m filter_bboxes(\n\u001b[1;32m    126\u001b[0m         data,\n\u001b[1;32m    127\u001b[0m         rows,\n\u001b[1;32m    128\u001b[0m         cols,\n\u001b[1;32m    129\u001b[0m         min_area\u001b[39m=\u001b[39;49m\u001b[39mself\u001b[39;49m\u001b[39m.\u001b[39;49mparams\u001b[39m.\u001b[39;49mmin_area,\n\u001b[1;32m    130\u001b[0m         min_visibility\u001b[39m=\u001b[39;49m\u001b[39mself\u001b[39;49m\u001b[39m.\u001b[39;49mparams\u001b[39m.\u001b[39;49mmin_visibility,\n\u001b[1;32m    131\u001b[0m         min_width\u001b[39m=\u001b[39;49m\u001b[39mself\u001b[39;49m\u001b[39m.\u001b[39;49mparams\u001b[39m.\u001b[39;49mmin_width,\n\u001b[1;32m    132\u001b[0m         min_height\u001b[39m=\u001b[39;49m\u001b[39mself\u001b[39;49m\u001b[39m.\u001b[39;49mparams\u001b[39m.\u001b[39;49mmin_height,\n\u001b[1;32m    133\u001b[0m     )\n",
      "File \u001b[0;32m~/object-detection-supermarket/venv/lib/python3.10/site-packages/albumentations/core/bbox_utils.py:485\u001b[0m, in \u001b[0;36mfilter_bboxes\u001b[0;34m(bboxes, rows, cols, min_area, min_visibility, min_width, min_height)\u001b[0m\n\u001b[1;32m    482\u001b[0m clipped_box_area \u001b[39m=\u001b[39m calculate_bbox_area(bbox, rows, cols)\n\u001b[1;32m    484\u001b[0m \u001b[39m# Calculate width and height of the clipped bounding box.\u001b[39;00m\n\u001b[0;32m--> 485\u001b[0m x_min, y_min, x_max, y_max \u001b[39m=\u001b[39m denormalize_bbox(bbox, rows, cols)[:\u001b[39m4\u001b[39m]\n\u001b[1;32m    486\u001b[0m clipped_width, clipped_height \u001b[39m=\u001b[39m x_max \u001b[39m-\u001b[39m x_min, y_max \u001b[39m-\u001b[39m y_min\n\u001b[1;32m    488\u001b[0m \u001b[39mif\u001b[39;00m (\n\u001b[1;32m    489\u001b[0m     clipped_box_area \u001b[39m!=\u001b[39m \u001b[39m0\u001b[39m  \u001b[39m# to ensure transformed_box_area!=0 and to handle min_area=0 or min_visibility=0\u001b[39;00m\n\u001b[1;32m    490\u001b[0m     \u001b[39mand\u001b[39;00m clipped_box_area \u001b[39m>\u001b[39m\u001b[39m=\u001b[39m min_area\n\u001b[0;32m   (...)\u001b[0m\n\u001b[1;32m    493\u001b[0m     \u001b[39mand\u001b[39;00m clipped_height \u001b[39m>\u001b[39m\u001b[39m=\u001b[39m min_height\n\u001b[1;32m    494\u001b[0m ):\n",
      "File \u001b[0;32m~/object-detection-supermarket/venv/lib/python3.10/site-packages/albumentations/core/bbox_utils.py:176\u001b[0m, in \u001b[0;36mdenormalize_bbox\u001b[0;34m(bbox, rows, cols)\u001b[0m\n\u001b[1;32m    171\u001b[0m     y_min, y_max \u001b[39m=\u001b[39m y_min \u001b[39m/\u001b[39m rows, y_max \u001b[39m/\u001b[39m rows\n\u001b[1;32m    173\u001b[0m     \u001b[39mreturn\u001b[39;00m cast(BoxType, (x_min, y_min, x_max, y_max) \u001b[39m+\u001b[39m tail)  \u001b[39m# type: ignore\u001b[39;00m\n\u001b[0;32m--> 176\u001b[0m \u001b[39mdef\u001b[39;00m \u001b[39mdenormalize_bbox\u001b[39m(bbox: TBox, rows: \u001b[39mint\u001b[39m, cols: \u001b[39mint\u001b[39m) \u001b[39m-\u001b[39m\u001b[39m>\u001b[39m TBox:\n\u001b[1;32m    177\u001b[0m \u001b[39m    \u001b[39m\u001b[39m\"\"\"Denormalize coordinates of a bounding box. Multiply x-coordinates by image width and y-coordinates\u001b[39;00m\n\u001b[1;32m    178\u001b[0m \u001b[39m    by image height. This is an inverse operation for :func:`~albumentations.augmentations.bbox.normalize_bbox`.\u001b[39;00m\n\u001b[1;32m    179\u001b[0m \n\u001b[0;32m   (...)\u001b[0m\n\u001b[1;32m    190\u001b[0m \n\u001b[1;32m    191\u001b[0m \u001b[39m    \"\"\"\u001b[39;00m\n\u001b[1;32m    192\u001b[0m     tail: Tuple[Any, \u001b[39m.\u001b[39m\u001b[39m.\u001b[39m\u001b[39m.\u001b[39m]\n",
      "File \u001b[0;32m_pydevd_bundle/pydevd_cython.pyx:1457\u001b[0m, in \u001b[0;36m_pydevd_bundle.pydevd_cython.SafeCallWrapper.__call__\u001b[0;34m()\u001b[0m\n",
      "File \u001b[0;32m_pydevd_bundle/pydevd_cython.pyx:1758\u001b[0m, in \u001b[0;36m_pydevd_bundle.pydevd_cython.ThreadTracer.__call__\u001b[0;34m()\u001b[0m\n",
      "File \u001b[0;32m~/object-detection-supermarket/venv/lib/python3.10/site-packages/debugpy/_vendored/pydevd/_pydev_bundle/pydev_is_thread_alive.py:9\u001b[0m, in \u001b[0;36mis_thread_alive\u001b[0;34m(t)\u001b[0m\n\u001b[1;32m      6\u001b[0m _temp \u001b[39m=\u001b[39m threading\u001b[39m.\u001b[39mThread()\n\u001b[1;32m      7\u001b[0m \u001b[39mif\u001b[39;00m \u001b[39mhasattr\u001b[39m(_temp, \u001b[39m'\u001b[39m\u001b[39m_is_stopped\u001b[39m\u001b[39m'\u001b[39m):  \u001b[39m# Python 3.x has this\u001b[39;00m\n\u001b[0;32m----> 9\u001b[0m     \u001b[39mdef\u001b[39;00m \u001b[39mis_thread_alive\u001b[39m(t):\n\u001b[1;32m     10\u001b[0m         \u001b[39mreturn\u001b[39;00m \u001b[39mnot\u001b[39;00m t\u001b[39m.\u001b[39m_is_stopped\n\u001b[1;32m     12\u001b[0m \u001b[39melif\u001b[39;00m \u001b[39mhasattr\u001b[39m(_temp, \u001b[39m'\u001b[39m\u001b[39m_Thread__stopped\u001b[39m\u001b[39m'\u001b[39m):  \u001b[39m# Python 2.x has this\u001b[39;00m\n",
      "\u001b[0;31mKeyboardInterrupt\u001b[0m: "
     ]
    }
   ],
   "source": [
    "import os\n",
    "from pathlib import Path\n",
    "import shutil\n",
    "from tqdm import tqdm\n",
    "import albumentations as A\n",
    "from PIL import Image\n",
    "import random\n",
    "from src.utils.load_params import load_params\n",
    "\n",
    "params = load_params(\"../params.yaml\")\n",
    "\n",
    "def clear_directory(path: str) -> None:\n",
    "    for filename in os.listdir(path):\n",
    "        file_path = os.path.join(path, filename)\n",
    "        if os.path.isfile(file_path) or os.path.islink(file_path):\n",
    "            os.unlink(file_path)  # Remove files and symbolic links\n",
    "        elif os.path.isdir(file_path):\n",
    "            shutil.rmtree(file_path)  # Remove subdirectories\n",
    "\n",
    "\n",
    "def get_augmentations() -> A.ReplayCompose:\n",
    "    return A.ReplayCompose([\n",
    "        A.OneOf([\n",
    "            A.HueSaturationValue(hue_shift_limit=0.2, sat_shift_limit=0.2, val_shift_limit=0.2, p=0.9),\n",
    "            A.RandomBrightnessContrast(brightness_limit=0.2, contrast_limit=0.2, p=0.9),\n",
    "        ], p=0.9),\n",
    "        A.ToGray(p=0.01),\n",
    "        A.HorizontalFlip(p=0.5),\n",
    "        A.VerticalFlip(p=0.1),\n",
    "        A.RandomRotate90(p=0.5),\n",
    "        A.Transpose(p=0.1),\n",
    "        A.ImageCompression(quality_lower=85, quality_upper=95, p=0.2),\n",
    "        A.OneOf([\n",
    "            A.Blur(blur_limit=3, p=1.0),\n",
    "            A.MedianBlur(blur_limit=3, p=1.0)\n",
    "        ], p=0.1),\n",
    "        A.Resize(height=416, width=416, p=1),\n",
    "    ], bbox_params=A.BboxParams(format='yolo', label_fields=['labels'], min_visibility=0.1), p=1)\n",
    "\n",
    "\n",
    "def convert_boxes_to_yolo_format(x1: int, y1: int, x2: int, y2: int, image_width: int, image_height: int) -> str:\n",
    "    \"\"\"\n",
    "        Converts the bounding box coordinates to yolo format\n",
    "\n",
    "        returns: str \"x_center_n y_center_n bbox_width_n bbox_height_n\"\n",
    "    \"\"\"\n",
    "\n",
    "    x2 = min(x2, image_width)\n",
    "    y2 = min(y2, image_height)\n",
    "\n",
    "    x_center = (x1 + x2) / 2\n",
    "    y_center = (y1 + y2) / 2\n",
    "    width = x2 - x1\n",
    "    height = y2 - y1\n",
    "    \n",
    "\n",
    "    # if x2 > image_width or y2 > image_height:\n",
    "\n",
    "    #     print(f\"Out of bound box: {x1, y1, x2, y2} for image of size: {image_width, image_height}\")\n",
    "\n",
    "    # if x1 > x2 or y1 > y2:\n",
    "    #     raise ValueError(\"x1 > x2 or y1 > y2\")\n",
    "\n",
    "    x_center_n = x_center / image_width\n",
    "    y_center_n = y_center / image_height\n",
    "    width_n = width / image_width\n",
    "    height_n = height / image_height\n",
    "\n",
    "    x_center_n = min(max(x_center_n, 0), 1)\n",
    "    y_center_n = min(max(y_center_n, 0), 1)\n",
    "    width_n = min(max(width_n, 0), 1)\n",
    "    height_n = min(max(height_n, 0), 1)\n",
    "    \n",
    "    return {\n",
    "        \"x_center_n\": x_center_n,\n",
    "        \"y_center_n\": y_center_n,\n",
    "        \"width_n\": width_n,\n",
    "        \"height_n\": height_n\n",
    "    } \n",
    "\n",
    "\n",
    "def prepare_dataset(params, datasets: pd.DataFrame, data_path: str, images_dir: str) -> None:\n",
    "    \"\"\"\n",
    "        datasets: dict\n",
    "            {\n",
    "                \"train\": ...,\n",
    "                \"test\": ...,\n",
    "                \"val\": ...\n",
    "            }\n",
    "\n",
    "        Creates this data structure\n",
    "\n",
    "        dataset\n",
    "            - images\n",
    "                - train\n",
    "                    - 001.jpg\n",
    "                - test\n",
    "                    - 001.jpg\n",
    "                - val\n",
    "                    - 001.jpg\n",
    "            - labels\n",
    "                - train\n",
    "                    - 001.txt\n",
    "                - test\n",
    "                    - 001.txt\n",
    "                - val\n",
    "                    - 001.txt\n",
    "\n",
    "        YOLO expects this format x_center_n, y_center_n bbox_width_n, bbox_height_n\n",
    "    \"\"\"\n",
    "    data_dir = Path(data_path)\n",
    "    images_dir = Path(images_dir)\n",
    "\n",
    "    if os.path.exists(data_dir):\n",
    "        shutil.rmtree(data_dir)\n",
    "    for split in datasets:\n",
    "        os.makedirs(data_dir / f\"images/{split}\", exist_ok=True)\n",
    "        os.makedirs(data_dir / f\"labels/{split}\", exist_ok=True)\n",
    "\n",
    "    classes_dict = {class_name: i for i, class_name in enumerate(pd.concat([d for d in dataset.values()])[\"class_name\"].unique())}\n",
    "    for split in datasets:\n",
    "        for _, image_metadata in tqdm(datasets[split].groupby(\"image_name\")):\n",
    "            image_name =  image_metadata[\"image_name\"].values[0]\n",
    "            image_fpath = images_dir / image_name\n",
    "\n",
    "            new_image_dir = data_dir / \"images\" / split\n",
    "            new_label_dir = data_dir / \"labels\" / split\n",
    "\n",
    "            \n",
    "            image = Image.open(image_fpath)\n",
    "            image = np.array(image)\n",
    "            bboxes = [convert_boxes_to_yolo_format(box.x1, box.y1, box.x2, box.y2, box.image_width, box.image_height).values() for _, box in image_metadata.iterrows()]\n",
    "            classes = [classes_dict[box[\"class_name\"]] for _, box in image_metadata.iterrows()]\n",
    "            base_random_state = params[\"base\"][\"random_state\"]\n",
    "\n",
    "            augmentations = [{\n",
    "                \"image\": image,\n",
    "                \"bboxes\": bboxes,\n",
    "                \"classes\": classes,\n",
    "                f\"fname\": f\"{image_name.split('.')[0]}_{0}\"\n",
    "            }]\n",
    "            \n",
    "            for i in range(1, params[\"yolo_preprocessing\"][\"n_augmentations\"] + 1):\n",
    "                new_seed = base_random_state + i\n",
    "                np.random.seed(new_seed)\n",
    "                random.seed(new_seed)\n",
    "                augmenter = get_augmentations()\n",
    "                augmentation = augmenter(image=image, bboxes=bboxes, labels=classes)\n",
    "                augmented_image = augmentation[\"image\"]\n",
    "                augmented_bboxes = augmentation[\"bboxes\"]\n",
    "\n",
    "                augmentations.append({\n",
    "                    \"image\": augmented_image, \n",
    "                    \"bboxes\": augmented_bboxes,\n",
    "                    \"classes\": classes,\n",
    "                    f\"fname\": f\"{image_name.split('.')[0]}_{i}\"\n",
    "                })\n",
    "                \n",
    "            np.random.seed(base_random_state)\n",
    "            random.seed(base_random_state)\n",
    "            \n",
    "            for augmented_image_metadata in augmentations:\n",
    "                augmented_image = Image.fromarray(augmented_image_metadata[\"image\"])\n",
    "                augmented_image.save(new_image_dir / f'{augmented_image_metadata[\"fname\"]}.jpg')\n",
    "\n",
    "                with open(new_label_dir / f'{augmented_image_metadata[\"fname\"]}.txt', \"a\") as f:\n",
    "                    for class_name, bbox in zip(augmented_image_metadata[\"classes\"], augmented_image_metadata[\"bboxes\"]):\n",
    "                        f.write(f\"{class_name} \" + ' '.join([str(v) for v in list(bbox)]) + \"\\n\")\n",
    "\n",
    "\n",
    "prepare_dataset(params, dataset, \"../data/dataset\", \"../data/SKU110K_fixed/images\")"
   ]
  },
  {
   "cell_type": "code",
   "execution_count": null,
   "metadata": {},
   "outputs": [],
   "source": []
  },
  {
   "cell_type": "code",
   "execution_count": null,
   "metadata": {},
   "outputs": [],
   "source": []
  },
  {
   "cell_type": "code",
   "execution_count": null,
   "metadata": {},
   "outputs": [],
   "source": []
  }
 ],
 "metadata": {
  "kernelspec": {
   "display_name": "venv",
   "language": "python",
   "name": "python3"
  },
  "language_info": {
   "codemirror_mode": {
    "name": "ipython",
    "version": 3
   },
   "file_extension": ".py",
   "mimetype": "text/x-python",
   "name": "python",
   "nbconvert_exporter": "python",
   "pygments_lexer": "ipython3",
   "version": "3.10.12"
  },
  "orig_nbformat": 4
 },
 "nbformat": 4,
 "nbformat_minor": 2
}
