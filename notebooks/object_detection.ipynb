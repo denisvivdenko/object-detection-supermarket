{
 "cells": [
  {
   "cell_type": "code",
   "execution_count": 2,
   "metadata": {},
   "outputs": [],
   "source": [
    "import pandas as pd\n",
    "import numpy as np\n",
    "import matplotlib.pyplot as plt\n",
    "import seaborn as sns\n"
   ]
  },
  {
   "cell_type": "code",
   "execution_count": 40,
   "metadata": {},
   "outputs": [],
   "source": [
    "# The CSV columns are: image_name,x1,y1,x2,y2,class,image_width,image_height\n",
    "columns = [\"image_name\", \"x1\", \"y1\", \"x2\", \"y2\", \"class_name\", \"image_width\", \"image_height\"]\n",
    "\n",
    "train_annotations = pd.read_csv('../data/SKU110K_fixed/annotations/annotations_train.csv', header=None)\n",
    "train_annotations.columns = columns\n",
    "\n",
    "test_annotations = pd.read_csv('../data/SKU110K_fixed/annotations/annotations_test.csv', header=None)\n",
    "test_annotations.columns = columns\n",
    "\n",
    "val_annotations = pd.read_csv('../data/SKU110K_fixed/annotations/annotations_val.csv', header=None)\n",
    "val_annotations.columns = columns\n",
    "\n",
    "dataset = {\n",
    "    \"train\": train_annotations,\n",
    "    \"test\": test_annotations,\n",
    "    \"val\": val_annotations\n",
    "}"
   ]
  },
  {
   "cell_type": "code",
   "execution_count": 41,
   "metadata": {},
   "outputs": [
    {
     "data": {
      "text/html": [
       "<div>\n",
       "<style scoped>\n",
       "    .dataframe tbody tr th:only-of-type {\n",
       "        vertical-align: middle;\n",
       "    }\n",
       "\n",
       "    .dataframe tbody tr th {\n",
       "        vertical-align: top;\n",
       "    }\n",
       "\n",
       "    .dataframe thead th {\n",
       "        text-align: right;\n",
       "    }\n",
       "</style>\n",
       "<table border=\"1\" class=\"dataframe\">\n",
       "  <thead>\n",
       "    <tr style=\"text-align: right;\">\n",
       "      <th></th>\n",
       "      <th>image_name</th>\n",
       "      <th>x1</th>\n",
       "      <th>y1</th>\n",
       "      <th>x2</th>\n",
       "      <th>y2</th>\n",
       "      <th>class_name</th>\n",
       "      <th>image_width</th>\n",
       "      <th>image_height</th>\n",
       "    </tr>\n",
       "  </thead>\n",
       "  <tbody>\n",
       "    <tr>\n",
       "      <th>0</th>\n",
       "      <td>train_0.jpg</td>\n",
       "      <td>208</td>\n",
       "      <td>537</td>\n",
       "      <td>422</td>\n",
       "      <td>814</td>\n",
       "      <td>object</td>\n",
       "      <td>3024</td>\n",
       "      <td>3024</td>\n",
       "    </tr>\n",
       "    <tr>\n",
       "      <th>1</th>\n",
       "      <td>train_0.jpg</td>\n",
       "      <td>1268</td>\n",
       "      <td>1923</td>\n",
       "      <td>1365</td>\n",
       "      <td>2209</td>\n",
       "      <td>object</td>\n",
       "      <td>3024</td>\n",
       "      <td>3024</td>\n",
       "    </tr>\n",
       "    <tr>\n",
       "      <th>2</th>\n",
       "      <td>train_0.jpg</td>\n",
       "      <td>1135</td>\n",
       "      <td>2074</td>\n",
       "      <td>1261</td>\n",
       "      <td>2166</td>\n",
       "      <td>object</td>\n",
       "      <td>3024</td>\n",
       "      <td>3024</td>\n",
       "    </tr>\n",
       "    <tr>\n",
       "      <th>3</th>\n",
       "      <td>train_0.jpg</td>\n",
       "      <td>1045</td>\n",
       "      <td>2085</td>\n",
       "      <td>1122</td>\n",
       "      <td>2258</td>\n",
       "      <td>object</td>\n",
       "      <td>3024</td>\n",
       "      <td>3024</td>\n",
       "    </tr>\n",
       "    <tr>\n",
       "      <th>4</th>\n",
       "      <td>train_0.jpg</td>\n",
       "      <td>976</td>\n",
       "      <td>2036</td>\n",
       "      <td>1040</td>\n",
       "      <td>2177</td>\n",
       "      <td>object</td>\n",
       "      <td>3024</td>\n",
       "      <td>3024</td>\n",
       "    </tr>\n",
       "  </tbody>\n",
       "</table>\n",
       "</div>"
      ],
      "text/plain": [
       "    image_name    x1    y1    x2    y2 class_name  image_width  image_height\n",
       "0  train_0.jpg   208   537   422   814     object         3024          3024\n",
       "1  train_0.jpg  1268  1923  1365  2209     object         3024          3024\n",
       "2  train_0.jpg  1135  2074  1261  2166     object         3024          3024\n",
       "3  train_0.jpg  1045  2085  1122  2258     object         3024          3024\n",
       "4  train_0.jpg   976  2036  1040  2177     object         3024          3024"
      ]
     },
     "execution_count": 41,
     "metadata": {},
     "output_type": "execute_result"
    }
   ],
   "source": [
    "train_annotations.head()"
   ]
  },
  {
   "cell_type": "code",
   "execution_count": 15,
   "metadata": {},
   "outputs": [
    {
     "data": {
      "text/plain": [
       "(array([6.55000e+02, 1.18000e+02, 6.08670e+04, 7.94870e+04, 2.40748e+05,\n",
       "        5.31492e+05, 1.90140e+04, 2.55197e+05, 1.44720e+04, 6.43200e+03]),\n",
       " array([ 640. , 1107.2, 1574.4, 2041.6, 2508.8, 2976. , 3443.2, 3910.4,\n",
       "        4377.6, 4844.8, 5312. ]),\n",
       " <BarContainer object of 10 artists>)"
      ]
     },
     "execution_count": 15,
     "metadata": {},
     "output_type": "execute_result"
    },
    {
     "data": {
      "image/png": "[encoded data removed]",
      "text/plain": [
       "<Figure size 640x480 with 1 Axes>"
      ]
     },
     "metadata": {},
     "output_type": "display_data"
    }
   ],
   "source": [
    "plt.hist(train_annotations.image_width)\n",
    "plt.hist(train_annotations.image_height)"
   ]
  },
  {
   "cell_type": "code",
   "execution_count": 12,
   "metadata": {},
   "outputs": [
    {
     "name": "stdout",
     "output_type": "stream",
     "text": [
      "<class 'pandas.core.frame.DataFrame'>\n",
      "RangeIndex: 1208482 entries, 0 to 1208481\n",
      "Data columns (total 8 columns):\n",
      " #   Column        Non-Null Count    Dtype \n",
      "---  ------        --------------    ----- \n",
      " 0   image_name    1208482 non-null  object\n",
      " 1   x1            1208482 non-null  int64 \n",
      " 2   y1            1208482 non-null  int64 \n",
      " 3   x2            1208482 non-null  int64 \n",
      " 4   y2            1208482 non-null  int64 \n",
      " 5   class         1208482 non-null  object\n",
      " 6   image_width   1208482 non-null  int64 \n",
      " 7   image_height  1208482 non-null  int64 \n",
      "dtypes: int64(6), object(2)\n",
      "memory usage: 73.8+ MB\n"
     ]
    }
   ],
   "source": [
    "train_annotations.info()"
   ]
  },
  {
   "cell_type": "code",
   "execution_count": 5,
   "metadata": {},
   "outputs": [
    {
     "data": {
      "text/plain": [
       "object\n",
       "object    1208481\n",
       "Name: count, dtype: int64"
      ]
     },
     "execution_count": 5,
     "metadata": {},
     "output_type": "execute_result"
    }
   ],
   "source": [
    "train_annotations.object.value_counts()"
   ]
  },
  {
   "cell_type": "code",
   "execution_count": 17,
   "metadata": {},
   "outputs": [],
   "source": [
    "from ultralytics import YOLO"
   ]
  },
  {
   "cell_type": "code",
   "execution_count": 21,
   "metadata": {},
   "outputs": [
    {
     "name": "stderr",
     "output_type": "stream",
     "text": [
      "\n",
      "image 1/1 /home/denys/object-detection-supermarket/notebooks/../data/examples/001.jpg: 448x640 (no detections), 76.9ms\n",
      "Speed: 2.2ms preprocess, 76.9ms inference, 0.5ms postprocess per image at shape (1, 3, 448, 640)\n"
     ]
    }
   ],
   "source": [
    "model = YOLO(f'../models/yolov8n.pt')\n",
    "results = model.predict(source='../data/examples/001.jpg', conf=0.25)"
   ]
  },
  {
   "cell_type": "code",
   "execution_count": 30,
   "metadata": {},
   "outputs": [
    {
     "name": "stderr",
     "output_type": "stream",
     "text": [
      "WARNING ⚠️ 'Boxes.boxes' is deprecated. Use 'Boxes.data' instead.\n"
     ]
    },
    {
     "data": {
      "text/plain": [
       "ultralytics.engine.results.Boxes object with attributes:\n",
       "\n",
       "boxes: tensor([], size=(0, 6))\n",
       "cls: tensor([])\n",
       "conf: tensor([])\n",
       "data: tensor([], size=(0, 6))\n",
       "id: None\n",
       "is_track: False\n",
       "orig_shape: (2396, 3594)\n",
       "shape: torch.Size([0, 6])\n",
       "xywh: tensor([], size=(0, 4))\n",
       "xywhn: tensor([], size=(0, 4))\n",
       "xyxy: tensor([], size=(0, 4))\n",
       "xyxyn: tensor([], size=(0, 4))"
      ]
     },
     "execution_count": 30,
     "metadata": {},
     "output_type": "execute_result"
    }
   ],
   "source": [
    "results[0].boxes"
   ]
  },
  {
   "cell_type": "code",
   "execution_count": 31,
   "metadata": {},
   "outputs": [
    {
     "data": {
      "text/html": [
       "<div>\n",
       "<style scoped>\n",
       "    .dataframe tbody tr th:only-of-type {\n",
       "        vertical-align: middle;\n",
       "    }\n",
       "\n",
       "    .dataframe tbody tr th {\n",
       "        vertical-align: top;\n",
       "    }\n",
       "\n",
       "    .dataframe thead th {\n",
       "        text-align: right;\n",
       "    }\n",
       "</style>\n",
       "<table border=\"1\" class=\"dataframe\">\n",
       "  <thead>\n",
       "    <tr style=\"text-align: right;\">\n",
       "      <th></th>\n",
       "      <th>image_name</th>\n",
       "      <th>x1</th>\n",
       "      <th>y1</th>\n",
       "      <th>x2</th>\n",
       "      <th>y2</th>\n",
       "      <th>class</th>\n",
       "      <th>image_width</th>\n",
       "      <th>image_height</th>\n",
       "    </tr>\n",
       "  </thead>\n",
       "  <tbody>\n",
       "    <tr>\n",
       "      <th>0</th>\n",
       "      <td>train_0.jpg</td>\n",
       "      <td>208</td>\n",
       "      <td>537</td>\n",
       "      <td>422</td>\n",
       "      <td>814</td>\n",
       "      <td>object</td>\n",
       "      <td>3024</td>\n",
       "      <td>3024</td>\n",
       "    </tr>\n",
       "    <tr>\n",
       "      <th>1</th>\n",
       "      <td>train_0.jpg</td>\n",
       "      <td>1268</td>\n",
       "      <td>1923</td>\n",
       "      <td>1365</td>\n",
       "      <td>2209</td>\n",
       "      <td>object</td>\n",
       "      <td>3024</td>\n",
       "      <td>3024</td>\n",
       "    </tr>\n",
       "    <tr>\n",
       "      <th>2</th>\n",
       "      <td>train_0.jpg</td>\n",
       "      <td>1135</td>\n",
       "      <td>2074</td>\n",
       "      <td>1261</td>\n",
       "      <td>2166</td>\n",
       "      <td>object</td>\n",
       "      <td>3024</td>\n",
       "      <td>3024</td>\n",
       "    </tr>\n",
       "    <tr>\n",
       "      <th>3</th>\n",
       "      <td>train_0.jpg</td>\n",
       "      <td>1045</td>\n",
       "      <td>2085</td>\n",
       "      <td>1122</td>\n",
       "      <td>2258</td>\n",
       "      <td>object</td>\n",
       "      <td>3024</td>\n",
       "      <td>3024</td>\n",
       "    </tr>\n",
       "    <tr>\n",
       "      <th>4</th>\n",
       "      <td>train_0.jpg</td>\n",
       "      <td>976</td>\n",
       "      <td>2036</td>\n",
       "      <td>1040</td>\n",
       "      <td>2177</td>\n",
       "      <td>object</td>\n",
       "      <td>3024</td>\n",
       "      <td>3024</td>\n",
       "    </tr>\n",
       "  </tbody>\n",
       "</table>\n",
       "</div>"
      ],
      "text/plain": [
       "    image_name    x1    y1    x2    y2   class  image_width  image_height\n",
       "0  train_0.jpg   208   537   422   814  object         3024          3024\n",
       "1  train_0.jpg  1268  1923  1365  2209  object         3024          3024\n",
       "2  train_0.jpg  1135  2074  1261  2166  object         3024          3024\n",
       "3  train_0.jpg  1045  2085  1122  2258  object         3024          3024\n",
       "4  train_0.jpg   976  2036  1040  2177  object         3024          3024"
      ]
     },
     "execution_count": 31,
     "metadata": {},
     "output_type": "execute_result"
    }
   ],
   "source": [
    "train_annotations.head()"
   ]
  },
  {
   "cell_type": "code",
   "execution_count": 70,
   "metadata": {},
   "outputs": [
    {
     "data": {
      "text/plain": [
       "image_name\n",
       "train_0.jpg       141\n",
       "train_1.jpg       135\n",
       "train_10.jpg      156\n",
       "train_100.jpg     165\n",
       "train_1000.jpg     82\n",
       "                 ... \n",
       "train_995.jpg     193\n",
       "train_996.jpg     154\n",
       "train_997.jpg     227\n",
       "train_998.jpg     160\n",
       "train_999.jpg     141\n",
       "Name: image_name, Length: 8219, dtype: int64"
      ]
     },
     "execution_count": 70,
     "metadata": {},
     "output_type": "execute_result"
    }
   ],
   "source": [
    "train_annotations.groupby(\"image_name\")[\"image_name\"].count()"
   ]
  },
  {
   "cell_type": "code",
   "execution_count": 46,
   "metadata": {},
   "outputs": [
    {
     "data": {
      "text/plain": [
       "{'object': 0}"
      ]
     },
     "execution_count": 46,
     "metadata": {},
     "output_type": "execute_result"
    }
   ],
   "source": [
    "classes = {class_name: i for i, class_name in enumerate(pd.concat([d for d in dataset.values()])[\"class_name\"].unique())}\n",
    "classes"
   ]
  },
  {
   "cell_type": "code",
   "execution_count": 77,
   "metadata": {},
   "outputs": [],
   "source": [
    "import os\n",
    "from pathlib import Path\n",
    "import shutil\n",
    "from tqdm import tqdm\n",
    "\n",
    "def clear_directory(path: str) -> None:\n",
    "    for filename in os.listdir(path):\n",
    "        file_path = os.path.join(path, filename)\n",
    "        if os.path.isfile(file_path) or os.path.islink(file_path):\n",
    "            os.unlink(file_path)  # Remove files and symbolic links\n",
    "        elif os.path.isdir(file_path):\n",
    "            shutil.rmtree(file_path)  # Remove subdirectories\n",
    "\n",
    "\n",
    "def convert_boxes_to_yolo_format(x1: int, y1: int, x2: int, y2: int, image_width: int, image_height: int) -> str:\n",
    "    \"\"\"\n",
    "        Converts the bounding box coordinates to yolo format\n",
    "\n",
    "        returns: str \"x_center_n y_center_n bbox_width_n bbox_height_n\"\n",
    "    \"\"\"\n",
    "    x_center = (x1 + x2) / 2\n",
    "    y_center = (y1 + y2) / 2\n",
    "    width = x2 - x1\n",
    "    height = y2 - y1\n",
    "\n",
    "    x_center_n = x_center / image_width\n",
    "    y_center_n = y_center / image_height\n",
    "    width_n = width / image_width\n",
    "    height_n = height / image_height\n",
    "\n",
    "    return f\"{x_center_n} {y_center_n} {width_n} {height_n}\"\n",
    "\n",
    "\n",
    "def prepare_dataset(datasets: pd.DataFrame, data_path: str, images_dir: str) -> None:\n",
    "    \"\"\"\n",
    "        datasets: dict\n",
    "            {\n",
    "                \"train\": ...,\n",
    "                \"test\": ...,\n",
    "                \"val\": ...\n",
    "            }\n",
    "\n",
    "        Creates this data structure\n",
    "\n",
    "        dataset\n",
    "            - images\n",
    "                - train\n",
    "                    - 001.jpg\n",
    "                - test\n",
    "                    - 001.jpg\n",
    "                - val\n",
    "                    - 001.jpg\n",
    "            - labels\n",
    "                - train\n",
    "                    - 001.txt\n",
    "                - test\n",
    "                    - 001.txt\n",
    "                - val\n",
    "                    - 001.txt\n",
    "\n",
    "        YOLO expects this format x_center_n, y_center_n bbox_width_n, bbox_height_n\n",
    "    \"\"\"\n",
    "    data_dir = Path(data_path)\n",
    "    images_dir = Path(images_dir)\n",
    "\n",
    "    if os.path.exists(data_dir):\n",
    "        shutil.rmtree(data_dir)\n",
    "    for split in datasets:\n",
    "        os.makedirs(data_dir / f\"images/{split}\", exist_ok=True)\n",
    "        os.makedirs(data_dir / f\"labels/{split}\", exist_ok=True)\n",
    "\n",
    "    classes = {class_name: i for i, class_name in enumerate(pd.concat([d for d in dataset.values()])[\"class_name\"].unique())}\n",
    "    for split in datasets:\n",
    "        for _, image in tqdm(datasets[split].groupby(\"image_name\")):\n",
    "            image_name =  image[\"image_name\"].values[0]\n",
    "            image_fpath = images_dir / image_name\n",
    "            new_image_fpath = data_dir / \"images\" / split /  image_name\n",
    "            label_fpath = data_dir / \"labels\" / split / image_name.replace(\".jpg\", \".txt\").replace(\".png\", \".txt\")\n",
    "\n",
    "            if not os.path.exists(new_image_fpath):\n",
    "                shutil.copy(image_fpath, new_image_fpath)\n",
    "            \n",
    "            with open(label_fpath, \"w\"):\n",
    "                pass\n",
    "            \n",
    "\n",
    "            for _, box in image.iterrows(): \n",
    "                with open(label_fpath, \"a\") as f:\n",
    "                    f.write(f\"{classes[box['class_name']]} \" + convert_boxes_to_yolo_format(box.x1, box.y1, box.x2, box.y2, box.image_width, box.image_height) + \"\\n\")"
   ]
  },
  {
   "cell_type": "code",
   "execution_count": 78,
   "metadata": {},
   "outputs": [
    {
     "name": "stderr",
     "output_type": "stream",
     "text": [
      "  7%|▋         | 541/8219 [00:12<03:33, 36.04it/s]"
     ]
    }
   ],
   "source": [
    "prepare_dataset(dataset, \"../data/dataset\", \"../data/SKU110K_fixed/images\")"
   ]
  },
  {
   "cell_type": "code",
   "execution_count": null,
   "metadata": {},
   "outputs": [],
   "source": []
  },
  {
   "cell_type": "code",
   "execution_count": null,
   "metadata": {},
   "outputs": [],
   "source": []
  },
  {
   "cell_type": "code",
   "execution_count": null,
   "metadata": {},
   "outputs": [],
   "source": []
  }
 ],
 "metadata": {
  "kernelspec": {
   "display_name": "venv",
   "language": "python",
   "name": "python3"
  },
  "language_info": {
   "codemirror_mode": {
    "name": "ipython",
    "version": 3
   },
   "file_extension": ".py",
   "mimetype": "text/x-python",
   "name": "python",
   "nbconvert_exporter": "python",
   "pygments_lexer": "ipython3",
   "version": "3.10.12"
  },
  "orig_nbformat": 4
 },
 "nbformat": 4,
 "nbformat_minor": 2
}
